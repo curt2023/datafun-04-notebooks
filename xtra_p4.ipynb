{
 "cells": [
  {
   "cell_type": "markdown",
   "metadata": {},
   "source": [
    "# Optional Task 5 (Bonus)\n",
    "- Author: Curtis Rogers\n",
    "- Date: 9/15/2023\n",
    "- Github Repo: [\"Curt's P4 Github Repo\"](https://github.com/curt2023/datafun-04-notebooks)\n"
   ]
  },
  {
   "cell_type": "markdown",
   "metadata": {},
   "source": [
    "## Create a contacts list DataFrame\n",
    "- Create the contact list.\n",
    "- Separate each cloumn by a \",\".\n",
    "- Finally create a DataFrame that contains the contacts and defines the columns. "
   ]
  },
  {
   "cell_type": "code",
   "execution_count": 1,
   "metadata": {},
   "outputs": [
    {
     "data": {
      "text/html": [
       "<div>\n",
       "<style scoped>\n",
       "    .dataframe tbody tr th:only-of-type {\n",
       "        vertical-align: middle;\n",
       "    }\n",
       "\n",
       "    .dataframe tbody tr th {\n",
       "        vertical-align: top;\n",
       "    }\n",
       "\n",
       "    .dataframe thead th {\n",
       "        text-align: right;\n",
       "    }\n",
       "</style>\n",
       "<table border=\"1\" class=\"dataframe\">\n",
       "  <thead>\n",
       "    <tr style=\"text-align: right;\">\n",
       "      <th></th>\n",
       "      <th>Name</th>\n",
       "      <th>Email</th>\n",
       "      <th>Phone Number</th>\n",
       "    </tr>\n",
       "  </thead>\n",
       "  <tbody>\n",
       "    <tr>\n",
       "      <th>0</th>\n",
       "      <td>Frank Williams</td>\n",
       "      <td>frank@email.com</td>\n",
       "      <td>5555551234</td>\n",
       "    </tr>\n",
       "    <tr>\n",
       "      <th>1</th>\n",
       "      <td>Betty May</td>\n",
       "      <td>betty@gmail.com</td>\n",
       "      <td>5555552345</td>\n",
       "    </tr>\n",
       "    <tr>\n",
       "      <th>2</th>\n",
       "      <td>George Patterson</td>\n",
       "      <td>george@email.com</td>\n",
       "      <td>5555554568</td>\n",
       "    </tr>\n",
       "    <tr>\n",
       "      <th>3</th>\n",
       "      <td>Sally Roberts</td>\n",
       "      <td>sally@gmail.com</td>\n",
       "      <td>5555557894</td>\n",
       "    </tr>\n",
       "    <tr>\n",
       "      <th>4</th>\n",
       "      <td>Mark Thompson</td>\n",
       "      <td>mark@email.com</td>\n",
       "      <td>5555556523</td>\n",
       "    </tr>\n",
       "  </tbody>\n",
       "</table>\n",
       "</div>"
      ],
      "text/plain": [
       "               Name             Email Phone Number\n",
       "0    Frank Williams   frank@email.com   5555551234\n",
       "1         Betty May   betty@gmail.com   5555552345\n",
       "2  George Patterson  george@email.com   5555554568\n",
       "3     Sally Roberts   sally@gmail.com   5555557894\n",
       "4     Mark Thompson    mark@email.com   5555556523"
      ]
     },
     "execution_count": 1,
     "metadata": {},
     "output_type": "execute_result"
    }
   ],
   "source": [
    "import pandas as pd\n",
    "\n",
    "\n",
    "contacts = [[\"Frank Williams\", \"frank@email.com\", \"5555551234\"], \n",
    "[\"Betty May\", \"betty@gmail.com\", \"5555552345\"],\n",
    "[\"George Patterson\", \"george@email.com\", \"5555554568\"],\n",
    "[\"Sally Roberts\", \"sally@gmail.com\", \"5555557894\"],\n",
    "[\"Mark Thompson\", \"mark@email.com\", \"5555556523\"]]\n",
    "\n",
    "contactsdf = pd.DataFrame(contacts,columns = [\"Name\", \"Email\", \"Phone Number\"])\n",
    "\n",
    "contactsdf\n"
   ]
  },
  {
   "cell_type": "markdown",
   "metadata": {},
   "source": [
    "## Create a function that will map the values into a new format\n",
    "- The desired format is ###-###-####."
   ]
  },
  {
   "cell_type": "code",
   "execution_count": 5,
   "metadata": {},
   "outputs": [
    {
     "data": {
      "text/plain": [
       "0    555-555-1234\n",
       "1    555-555-2345\n",
       "2    555-555-4568\n",
       "3    555-555-7894\n",
       "4    555-555-6523\n",
       "Name: Phone Number, dtype: object"
      ]
     },
     "execution_count": 5,
     "metadata": {},
     "output_type": "execute_result"
    }
   ],
   "source": [
    "import re\n",
    "def get_formatted_phone(value):\n",
    "    result = re.fullmatch(r\"(\\d{3})(\\d{3})(\\d{4})\", value)\n",
    "    return \"-\".join(result.groups()) if result else value\n",
    "\n",
    "formatted_phone = contactsdf[\"Phone Number\"].map(get_formatted_phone)\n",
    "\n"
   ]
  },
  {
   "cell_type": "markdown",
   "metadata": {},
   "source": [
    "- Verify the that the formatted_phone is correct.\n",
    "- If so, move on to the next step."
   ]
  },
  {
   "cell_type": "markdown",
   "metadata": {},
   "source": [
    "## Assign New Series to Contacts"
   ]
  },
  {
   "cell_type": "code",
   "execution_count": 6,
   "metadata": {},
   "outputs": [
    {
     "data": {
      "text/html": [
       "<div>\n",
       "<style scoped>\n",
       "    .dataframe tbody tr th:only-of-type {\n",
       "        vertical-align: middle;\n",
       "    }\n",
       "\n",
       "    .dataframe tbody tr th {\n",
       "        vertical-align: top;\n",
       "    }\n",
       "\n",
       "    .dataframe thead th {\n",
       "        text-align: right;\n",
       "    }\n",
       "</style>\n",
       "<table border=\"1\" class=\"dataframe\">\n",
       "  <thead>\n",
       "    <tr style=\"text-align: right;\">\n",
       "      <th></th>\n",
       "      <th>Name</th>\n",
       "      <th>Email</th>\n",
       "      <th>Phone Number</th>\n",
       "    </tr>\n",
       "  </thead>\n",
       "  <tbody>\n",
       "    <tr>\n",
       "      <th>0</th>\n",
       "      <td>Frank Williams</td>\n",
       "      <td>frank@email.com</td>\n",
       "      <td>555-555-1234</td>\n",
       "    </tr>\n",
       "    <tr>\n",
       "      <th>1</th>\n",
       "      <td>Betty May</td>\n",
       "      <td>betty@gmail.com</td>\n",
       "      <td>555-555-2345</td>\n",
       "    </tr>\n",
       "    <tr>\n",
       "      <th>2</th>\n",
       "      <td>George Patterson</td>\n",
       "      <td>george@email.com</td>\n",
       "      <td>555-555-4568</td>\n",
       "    </tr>\n",
       "    <tr>\n",
       "      <th>3</th>\n",
       "      <td>Sally Roberts</td>\n",
       "      <td>sally@gmail.com</td>\n",
       "      <td>555-555-7894</td>\n",
       "    </tr>\n",
       "    <tr>\n",
       "      <th>4</th>\n",
       "      <td>Mark Thompson</td>\n",
       "      <td>mark@email.com</td>\n",
       "      <td>555-555-6523</td>\n",
       "    </tr>\n",
       "  </tbody>\n",
       "</table>\n",
       "</div>"
      ],
      "text/plain": [
       "               Name             Email  Phone Number\n",
       "0    Frank Williams   frank@email.com  555-555-1234\n",
       "1         Betty May   betty@gmail.com  555-555-2345\n",
       "2  George Patterson  george@email.com  555-555-4568\n",
       "3     Sally Roberts   sally@gmail.com  555-555-7894\n",
       "4     Mark Thompson    mark@email.com  555-555-6523"
      ]
     },
     "execution_count": 6,
     "metadata": {},
     "output_type": "execute_result"
    }
   ],
   "source": [
    "contactsdf[\"Phone Number\"] = formatted_phone\n",
    "\n",
    "contactsdf"
   ]
  },
  {
   "cell_type": "markdown",
   "metadata": {},
   "source": [
    "- The result is a new contact list with the formatted phone numbers"
   ]
  }
 ],
 "metadata": {
  "kernelspec": {
   "display_name": ".venv",
   "language": "python",
   "name": "python3"
  },
  "language_info": {
   "codemirror_mode": {
    "name": "ipython",
    "version": 3
   },
   "file_extension": ".py",
   "mimetype": "text/x-python",
   "name": "python",
   "nbconvert_exporter": "python",
   "pygments_lexer": "ipython3",
   "version": "3.11.4"
  },
  "orig_nbformat": 4
 },
 "nbformat": 4,
 "nbformat_minor": 2
}
