{
 "cells": [
  {
   "cell_type": "markdown",
   "metadata": {},
   "source": []
  },
  {
   "cell_type": "markdown",
   "metadata": {},
   "source": [
    "# Module 4 Project\n",
    "Author: [Curtis Rogers](https://github.com/curt2023/)\n",
    "Repository: [datafun-04-notebooks](https://github.com/curt2023/datafun-04-notebooks)"
   ]
  },
  {
   "cell_type": "markdown",
   "metadata": {},
   "source": [
    "## Resources\n",
    "- [Jupyter Notebook Tips, Tricks, and Shortcuts](https://www.dataquest.io/blog/jupyter-notebook-tips-tricks-shortcuts/) - A blog post with useful tips, tricks, and keyboard shortcuts to enhance your productivity in Jupyter Notebooks.\n",
    "- [Jupyter Notebook Cheat Sheet](https://cheatography.com/sschaub/cheat-sheets/jupyter-notebook/) - A concise cheat sheet with commonly used commands and shortcuts for Jupyter Notebooks.\n"
   ]
  },
  {
   "cell_type": "markdown",
   "metadata": {},
   "source": [
    "## Task 1 - Series\n"
   ]
  },
  {
   "cell_type": "code",
   "execution_count": 57,
   "metadata": {},
   "outputs": [
    {
     "data": {
      "text/plain": [
       "(87,\n",
       " 13,\n",
       " 73.38461538461539,\n",
       " 23,\n",
       " 100,\n",
       " 24.18862839413892,\n",
       " count     13.000000\n",
       " mean      73.384615\n",
       " std       24.188628\n",
       " min       23.000000\n",
       " 25%       64.000000\n",
       " 50%       83.000000\n",
       " 75%       87.000000\n",
       " max      100.000000\n",
       " dtype: float64)"
      ]
     },
     "execution_count": 57,
     "metadata": {},
     "output_type": "execute_result"
    }
   ],
   "source": [
    "import pandas as pd\n",
    "\n",
    "\n",
    "\n",
    "grades = pd.Series([87,100,56,23,98,85,72,31,94,83,64,85,76])\n",
    "\n",
    "grades[0], grades.count(), grades.mean(),grades.min(),grades.max(),grades.std(),grades.describe()\n"
   ]
  },
  {
   "cell_type": "markdown",
   "metadata": {},
   "source": [
    "## Task 2 -Series from Dictionary"
   ]
  },
  {
   "cell_type": "code",
   "execution_count": 58,
   "metadata": {},
   "outputs": [
    {
     "data": {
      "text/html": [
       "<div>\n",
       "<style scoped>\n",
       "    .dataframe tbody tr th:only-of-type {\n",
       "        vertical-align: middle;\n",
       "    }\n",
       "\n",
       "    .dataframe tbody tr th {\n",
       "        vertical-align: top;\n",
       "    }\n",
       "\n",
       "    .dataframe thead th {\n",
       "        text-align: right;\n",
       "    }\n",
       "</style>\n",
       "<table border=\"1\" class=\"dataframe\">\n",
       "  <thead>\n",
       "    <tr style=\"text-align: right;\">\n",
       "      <th></th>\n",
       "      <th>Wally</th>\n",
       "      <th>Sam</th>\n",
       "      <th>Eva</th>\n",
       "      <th>Katie</th>\n",
       "      <th>Bob</th>\n",
       "    </tr>\n",
       "  </thead>\n",
       "  <tbody>\n",
       "    <tr>\n",
       "      <th>Test1</th>\n",
       "      <td>87</td>\n",
       "      <td>100</td>\n",
       "      <td>80</td>\n",
       "      <td>96</td>\n",
       "      <td>83</td>\n",
       "    </tr>\n",
       "    <tr>\n",
       "      <th>Test2</th>\n",
       "      <td>63</td>\n",
       "      <td>56</td>\n",
       "      <td>85</td>\n",
       "      <td>95</td>\n",
       "      <td>67</td>\n",
       "    </tr>\n",
       "    <tr>\n",
       "      <th>Test3</th>\n",
       "      <td>42</td>\n",
       "      <td>87</td>\n",
       "      <td>87</td>\n",
       "      <td>100</td>\n",
       "      <td>98</td>\n",
       "    </tr>\n",
       "    <tr>\n",
       "      <th>Test4</th>\n",
       "      <td>84</td>\n",
       "      <td>72</td>\n",
       "      <td>90</td>\n",
       "      <td>98</td>\n",
       "      <td>78</td>\n",
       "    </tr>\n",
       "    <tr>\n",
       "      <th>Test5</th>\n",
       "      <td>57</td>\n",
       "      <td>30</td>\n",
       "      <td>76</td>\n",
       "      <td>90</td>\n",
       "      <td>72</td>\n",
       "    </tr>\n",
       "  </tbody>\n",
       "</table>\n",
       "</div>"
      ],
      "text/plain": [
       "       Wally  Sam  Eva  Katie  Bob\n",
       "Test1     87  100   80     96   83\n",
       "Test2     63   56   85     95   67\n",
       "Test3     42   87   87    100   98\n",
       "Test4     84   72   90     98   78\n",
       "Test5     57   30   76     90   72"
      ]
     },
     "execution_count": 58,
     "metadata": {},
     "output_type": "execute_result"
    }
   ],
   "source": [
    "grades_dict = {\"Wally\" : [87,63,42,84,57], \"Sam\" : [100,56,87,72,30], \"Eva\" : [80,85,87,90,76], \n",
    "               \"Katie\" : [96,95,100,98,90], \"Bob\" : [83,67,98,78,72]}\n",
    "\n",
    "grades = pd.DataFrame(grades_dict)\n",
    "grades.index = [\"Test1\", \"Test2\", \"Test3\", \"Test4\", \"Test5\"]\n",
    "\n",
    "grades\n"
   ]
  },
  {
   "cell_type": "code",
   "execution_count": 59,
   "metadata": {},
   "outputs": [
    {
     "data": {
      "text/plain": [
       "Test1    80\n",
       "Test2    85\n",
       "Test3    87\n",
       "Test4    90\n",
       "Test5    76\n",
       "Name: Eva, dtype: int64"
      ]
     },
     "execution_count": 59,
     "metadata": {},
     "output_type": "execute_result"
    }
   ],
   "source": [
    "grades[\"Eva\"]"
   ]
  },
  {
   "cell_type": "code",
   "execution_count": 60,
   "metadata": {},
   "outputs": [
    {
     "data": {
      "text/plain": [
       "Test1    87\n",
       "Test2    63\n",
       "Test3    42\n",
       "Test4    84\n",
       "Test5    57\n",
       "Name: Wally, dtype: int64"
      ]
     },
     "execution_count": 60,
     "metadata": {},
     "output_type": "execute_result"
    }
   ],
   "source": [
    "grades.Wally"
   ]
  },
  {
   "cell_type": "code",
   "execution_count": 61,
   "metadata": {},
   "outputs": [
    {
     "data": {
      "text/plain": [
       "array([[ 87, 100,  80,  96,  83],\n",
       "       [ 63,  56,  85,  95,  67],\n",
       "       [ 42,  87,  87, 100,  98],\n",
       "       [ 84,  72,  90,  98,  78],\n",
       "       [ 57,  30,  76,  90,  72]], dtype=int64)"
      ]
     },
     "execution_count": 61,
     "metadata": {},
     "output_type": "execute_result"
    }
   ],
   "source": [
    "grades2 = pd.Series([87, 100, 94], index = [\"Wally\", \"Eva\", \"Sam\"])\n",
    "grades.values"
   ]
  }
 ],
 "metadata": {
  "kernelspec": {
   "display_name": ".venv",
   "language": "python",
   "name": "python3"
  },
  "language_info": {
   "codemirror_mode": {
    "name": "ipython",
    "version": 3
   },
   "file_extension": ".py",
   "mimetype": "text/x-python",
   "name": "python",
   "nbconvert_exporter": "python",
   "pygments_lexer": "ipython3",
   "version": "3.11.4"
  },
  "orig_nbformat": 4
 },
 "nbformat": 4,
 "nbformat_minor": 2
}
